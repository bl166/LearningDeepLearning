{
 "cells": [
  {
   "cell_type": "markdown",
   "metadata": {},
   "source": [
    "# Task 1\n",
    "\n",
    "```\n",
    "     active environment : None\n",
    "       user config file : /Users/boningli/.condarc\n",
    " populated config files : /Users/boningli/.condarc\n",
    "          conda version : 4.5.0\n",
    "    conda-build version : not installed\n",
    "         python version : 3.6.2.final.0\n",
    "       base environment : /Users/boningli/anaconda  (writable)\n",
    "           channel URLs : https://repo.anaconda.com/pkgs/main/osx-64\n",
    "                          https://repo.anaconda.com/pkgs/main/noarch\n",
    "                          https://repo.anaconda.com/pkgs/free/osx-64\n",
    "                          https://repo.anaconda.com/pkgs/free/noarch\n",
    "                          https://repo.anaconda.com/pkgs/r/osx-64\n",
    "                          https://repo.anaconda.com/pkgs/r/noarch\n",
    "                          https://repo.anaconda.com/pkgs/pro/osx-64\n",
    "                          https://repo.anaconda.com/pkgs/pro/noarch\n",
    "          package cache : /Users/boningli/anaconda/pkgs\n",
    "                          /Users/boningli/.conda/pkgs\n",
    "       envs directories : /Users/boningli/anaconda/envs\n",
    "                          /Users/boningli/.conda/envs\n",
    "               platform : osx-64\n",
    "             user-agent : conda/4.5.0 requests/2.18.4 CPython/3.6.2 Darwin/17.5.0 OSX/10.13.4\n",
    "                UID:GID : 501:20\n",
    "             netrc file : None\n",
    "           offline mode : False\n",
    "```"
   ]
  },
  {
   "cell_type": "markdown",
   "metadata": {},
   "source": [
    "# Task 2"
   ]
  },
  {
   "cell_type": "code",
   "execution_count": 51,
   "metadata": {},
   "outputs": [
    {
     "name": "stdout",
     "output_type": "stream",
     "text": [
      "[[81 85 81 36 21 63 26]\n",
      " [14 55 45 46 27 99 71]\n",
      " [73 25 19 90  9 75  8]\n",
      " [83 97 67  0 96 22 53]\n",
      " [10 37 93 48 78 91 64]\n",
      " [62 77 59 60 80  0 57]\n",
      " [59 64 32 81 44 76 40]]\n"
     ]
    }
   ],
   "source": [
    "import numpy as np\n",
    "import scipy.linalg\n",
    "\n",
    "a = np.random.randint(0, 100, 49).reshape((7,7))\n",
    "\n",
    "print(a)"
   ]
  },
  {
   "cell_type": "code",
   "execution_count": 35,
   "metadata": {},
   "outputs": [
    {
     "data": {
      "text/plain": [
       "2"
      ]
     },
     "execution_count": 35,
     "metadata": {},
     "output_type": "execute_result"
    }
   ],
   "source": [
    "#get the number of dimensions of an array\n",
    "a.ndim"
   ]
  },
  {
   "cell_type": "code",
   "execution_count": 23,
   "metadata": {},
   "outputs": [
    {
     "data": {
      "text/plain": [
       "25"
      ]
     },
     "execution_count": 23,
     "metadata": {},
     "output_type": "execute_result"
    }
   ],
   "source": [
    "#get the number of elements of an array\n",
    "a.size"
   ]
  },
  {
   "cell_type": "code",
   "execution_count": 24,
   "metadata": {},
   "outputs": [
    {
     "data": {
      "text/plain": [
       "(5, 5)"
      ]
     },
     "execution_count": 24,
     "metadata": {},
     "output_type": "execute_result"
    }
   ],
   "source": [
    "#get the \"size\" of the matrix\n",
    "a.shape"
   ]
  },
  {
   "cell_type": "code",
   "execution_count": 25,
   "metadata": {},
   "outputs": [
    {
     "data": {
      "text/plain": [
       "5"
      ]
     },
     "execution_count": 25,
     "metadata": {},
     "output_type": "execute_result"
    }
   ],
   "source": [
    "#get the number of elements of the n-th dimension of array a\n",
    "n=1\n",
    "a.shape[n-1]"
   ]
  },
  {
   "cell_type": "code",
   "execution_count": 36,
   "metadata": {},
   "outputs": [
    {
     "data": {
      "text/plain": [
       "array([[ 1.,  2.,  3.],\n",
       "       [ 4.,  5.,  6.]])"
      ]
     },
     "execution_count": 36,
     "metadata": {},
     "output_type": "execute_result"
    }
   ],
   "source": [
    "#2x3 matrix literal\n",
    "np.array([[1.,2.,3.], [4.,5.,6.]])"
   ]
  },
  {
   "cell_type": "code",
   "execution_count": 52,
   "metadata": {},
   "outputs": [
    {
     "data": {
      "text/plain": [
       "matrix([[ 81.,  85.,  81.,  36.,  21.,  63.,  26.,   0.,   0.],\n",
       "        [ 14.,  55.,  45.,  46.,  27.,  99.,  71.,   0.,   0.],\n",
       "        [ 73.,  25.,  19.,  90.,   9.,  75.,   8.,   0.,   0.],\n",
       "        [ 83.,  97.,  67.,   0.,  96.,  22.,  53.,   0.,   0.],\n",
       "        [ 10.,  37.,  93.,  48.,  78.,  91.,  64.,   0.,   0.],\n",
       "        [ 62.,  77.,  59.,  60.,  80.,   0.,  57.,   0.,   0.],\n",
       "        [ 59.,  64.,  32.,  81.,  44.,  76.,  40.,   0.,   0.],\n",
       "        [  0.,   0.,   0.,   0.,   0.,   0.,   0.,   0.,   0.],\n",
       "        [  0.,   0.,   0.,   0.,   0.,   0.,   0.,   0.,   0.]])"
      ]
     },
     "execution_count": 52,
     "metadata": {},
     "output_type": "execute_result"
    }
   ],
   "source": [
    "#construct a matrix from blocks a, b, c, and d\n",
    "b = np.zeros((a.shape[0],2))\n",
    "c = np.zeros((2,a.shape[1]))\n",
    "d = np.zeros((2,2))\n",
    "n = np.bmat([[a,b], [c,d]])\n",
    "n"
   ]
  },
  {
   "cell_type": "code",
   "execution_count": 53,
   "metadata": {},
   "outputs": [
    {
     "name": "stdout",
     "output_type": "stream",
     "text": [
      "a = [31 83 73 20 63 97 45 68 74 55 99 40 23 23  0 40 22 35 30  9 84 31  5 81 51]\n"
     ]
    },
    {
     "data": {
      "text/plain": [
       "51"
      ]
     },
     "execution_count": 53,
     "metadata": {},
     "output_type": "execute_result"
    }
   ],
   "source": [
    "#access last element in the 1xn matrix a\n",
    "a_1d = np.random.randint(0, 100, 25)\n",
    "print('a =',a_1d)\n",
    "a_1d[-1]"
   ]
  },
  {
   "cell_type": "code",
   "execution_count": 54,
   "metadata": {},
   "outputs": [
    {
     "name": "stdout",
     "output_type": "stream",
     "text": [
      "a = [[81 85 81 36 21 63 26]\n",
      " [14 55 45 46 27 99 71]\n",
      " [73 25 19 90  9 75  8]\n",
      " [83 97 67  0 96 22 53]\n",
      " [10 37 93 48 78 91 64]\n",
      " [62 77 59 60 80  0 57]\n",
      " [59 64 32 81 44 76 40]]\n"
     ]
    },
    {
     "data": {
      "text/plain": [
       "27"
      ]
     },
     "execution_count": 54,
     "metadata": {},
     "output_type": "execute_result"
    }
   ],
   "source": [
    "#access element in second row, fifth column\n",
    "print('a =',a)\n",
    "a[1,4]"
   ]
  },
  {
   "cell_type": "code",
   "execution_count": 55,
   "metadata": {},
   "outputs": [
    {
     "data": {
      "text/plain": [
       "array([14, 55, 45, 46, 27, 99, 71])"
      ]
     },
     "execution_count": 55,
     "metadata": {},
     "output_type": "execute_result"
    }
   ],
   "source": [
    "#entire second row of a\n",
    "a[1]"
   ]
  },
  {
   "cell_type": "code",
   "execution_count": 56,
   "metadata": {},
   "outputs": [
    {
     "data": {
      "text/plain": [
       "array([[81, 85, 81, 36, 21, 63, 26],\n",
       "       [14, 55, 45, 46, 27, 99, 71],\n",
       "       [73, 25, 19, 90,  9, 75,  8],\n",
       "       [83, 97, 67,  0, 96, 22, 53],\n",
       "       [10, 37, 93, 48, 78, 91, 64]])"
      ]
     },
     "execution_count": 56,
     "metadata": {},
     "output_type": "execute_result"
    }
   ],
   "source": [
    "#the first five rows of a\n",
    "a[0:5]"
   ]
  },
  {
   "cell_type": "code",
   "execution_count": 57,
   "metadata": {},
   "outputs": [
    {
     "data": {
      "text/plain": [
       "array([[73, 25, 19, 90,  9, 75,  8],\n",
       "       [83, 97, 67,  0, 96, 22, 53],\n",
       "       [10, 37, 93, 48, 78, 91, 64],\n",
       "       [62, 77, 59, 60, 80,  0, 57],\n",
       "       [59, 64, 32, 81, 44, 76, 40]])"
      ]
     },
     "execution_count": 57,
     "metadata": {},
     "output_type": "execute_result"
    }
   ],
   "source": [
    "#the last five rows of a\n",
    "a[-5:]"
   ]
  },
  {
   "cell_type": "code",
   "execution_count": 58,
   "metadata": {},
   "outputs": [
    {
     "data": {
      "text/plain": [
       "array([[21, 63, 26],\n",
       "       [27, 99, 71],\n",
       "       [ 9, 75,  8]])"
      ]
     },
     "execution_count": 58,
     "metadata": {},
     "output_type": "execute_result"
    }
   ],
   "source": [
    "#rows one to three and columns five to nine of a. This gives read-only access.\n",
    "a[0:3][:,4:9]"
   ]
  },
  {
   "cell_type": "markdown",
   "metadata": {},
   "source": [
    "# Task 3"
   ]
  },
  {
   "cell_type": "code",
   "execution_count": 60,
   "metadata": {},
   "outputs": [
    {
     "data": {
      "image/png": "[encoded data removed]",
      "text/plain": [
       "<matplotlib.figure.Figure at 0x60b39b828>"
      ]
     },
     "metadata": {},
     "output_type": "display_data"
    }
   ],
   "source": [
    "import matplotlib.pyplot as plt\n",
    "plt.plot([1,2,3,4], [1,2,7,14])\n",
    "plt.axis([0, 6, 0, 20])\n",
    "plt.show()"
   ]
  },
  {
   "cell_type": "markdown",
   "metadata": {},
   "source": [
    "# Task 4"
   ]
  },
  {
   "cell_type": "code",
   "execution_count": 86,
   "metadata": {},
   "outputs": [
    {
     "data": {
      "image/png": "[encoded data removed]",
      "text/plain": [
       "<matplotlib.figure.Figure at 0x6164e2a58>"
      ]
     },
     "metadata": {},
     "output_type": "display_data"
    }
   ],
   "source": [
    "x = np.random.normal(0,1,1000)\n",
    "fig, axs = plt.subplots(1, 1)\n",
    "axs.hist(x, bins=20)\n",
    "axs.set_title('Histogram of N~(0,1)')\n",
    "axs.set_xlabel('x')\n",
    "axs.set_ylabel('count(x)')\n",
    "plt.show()"
   ]
  },
  {
   "cell_type": "markdown",
   "metadata": {},
   "source": [
    "# Task 5\n",
    "\n",
    "https://github.com/bl166/"
   ]
  },
  {
   "cell_type": "markdown",
   "metadata": {},
   "source": [
    "# Task 6\n"
   ]
  }
 ],
 "metadata": {
  "kernelspec": {
   "display_name": "Python [conda env:anaconda]",
   "language": "python",
   "name": "conda-env-anaconda-py"
  },
  "language_info": {
   "codemirror_mode": {
    "name": "ipython",
    "version": 3
   },
   "file_extension": ".py",
   "mimetype": "text/x-python",
   "name": "python",
   "nbconvert_exporter": "python",
   "pygments_lexer": "ipython3",
   "version": "3.6.2"
  }
 },
 "nbformat": 4,
 "nbformat_minor": 2
}
